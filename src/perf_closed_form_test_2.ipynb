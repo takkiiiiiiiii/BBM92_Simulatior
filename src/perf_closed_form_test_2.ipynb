{
 "cells": [
  {
   "cell_type": "code",
   "execution_count": 1,
   "id": "5894b3ff",
   "metadata": {},
   "outputs": [],
   "source": [
    "from os import getcwd\n",
    "from os.path import join, basename\n",
    "from sys import path \n",
    "\n",
    "libs_dir = join(\"/\".join(getcwd().split(\"/\")[:-1]))\n",
    "path.append(libs_dir)\n",
    "\n",
    "filename = basename(globals()['__vsc_ipynb_file__']).split(\".\")[0]\n",
    "\n",
    "import numpy as np\n",
    "from libs.qchannel_model import *\n",
    "from libs.figure_config import *\n",
    "from libs.default_parameters import *\n",
    "from scipy.special import gamma\n",
    "import mpmath as mp"
   ]
  },
  {
   "cell_type": "code",
   "execution_count": 2,
   "id": "0640fdd6",
   "metadata": {},
   "outputs": [],
   "source": [
    "sigma_theta_x = theta_rad/8\n",
    "sigma_theta_y = theta_rad/8\n",
    "ra = 0.75"
   ]
  },
  {
   "cell_type": "code",
   "execution_count": 3,
   "id": "93e26a89",
   "metadata": {},
   "outputs": [],
   "source": [
    "tau_zen = 0.91\n",
    "zenith_angle_deg = 0\n",
    "zenith_angle_rad = np.radians(zenith_angle_deg)\n",
    "\n",
    "slant_distance = compute_slant_distance(h_s, h_OGS, zenith_angle_rad)\n",
    "w_L = slant_distance * theta_rad\n",
    "\n",
    "sigma_x = sigma_theta_x * slant_distance\n",
    "sigma_y = sigma_theta_y * slant_distance\n",
    "\n",
    "w_Leq_squared = equivalent_beam_width_squared(ra, w_L)\n",
    "w_Leq = np.sqrt(w_Leq_squared)\n",
    "sigma_R_squared = rytov_variance(\n",
    "        wavelength, zenith_angle_rad, h_OGS, h_atm, Cn2_profile)\n",
    "sigma_mod = compute_sigma_mod(mu_x, mu_y, sigma_x, sigma_y)\n",
    "varphi_mod = sigma_to_variance(sigma_mod, w_Leq)\n",
    "A_mod = mod_jitter(mu_x, mu_y, sigma_x, sigma_y, w_L, w_Leq, ra)\n",
    "mu = (sigma_R_squared/2) * (1 + 2 * varphi_mod**2)\n",
    "\n",
    "eta_l = compute_atm_loss(tau_zen, zenith_angle_rad)"
   ]
  },
  {
   "cell_type": "code",
   "execution_count": 4,
   "id": "0c7591cc",
   "metadata": {},
   "outputs": [],
   "source": [
    "def f(eta, k):\n",
    "    a = eta**(varphi_mod**2-1+k)\n",
    "    b = erfc(\n",
    "        (np.log(eta / (A_mod * eta_l)) + mu)\n",
    "        / (np.sqrt(2) * np.sqrt(sigma_R_squared))\n",
    "        )\n",
    "    return a * b"
   ]
  },
  {
   "cell_type": "code",
   "execution_count": 5,
   "id": "3c9193ca",
   "metadata": {},
   "outputs": [],
   "source": [
    "def f_test(eta, k):\n",
    "    term_1 = np.exp(np.sqrt(2*sigma_R_squared) * (varphi_mod**2+k) * eta)\n",
    "    term_2 = erfc(\n",
    "        eta\n",
    "    )\n",
    "\n",
    "    return term_1 * term_2"
   ]
  },
  {
   "cell_type": "code",
   "execution_count": 6,
   "id": "83a9aaee",
   "metadata": {},
   "outputs": [
    {
     "name": "stdout",
     "output_type": "stream",
     "text": [
      "3.624335189189155e+66\n"
     ]
    }
   ],
   "source": [
    "avg_yield_test, _ = quad(f_test, -2, 20, args=(5))\n",
    "print(avg_yield_test)"
   ]
  },
  {
   "cell_type": "code",
   "execution_count": 7,
   "id": "3affdabb",
   "metadata": {},
   "outputs": [],
   "source": [
    "def f_closed_form(k):\n",
    "    term_1 = (\n",
    "        np.sqrt(2) * np.sqrt(sigma_R_squared)\n",
    "        * (\n",
    "            A_mod * eta_l * np.exp(-mu)\n",
    "        )**(varphi_mod**2+k)\n",
    "    )\n",
    "\n",
    "    z1 = -np.sqrt(2*sigma_R_squared) * (varphi_mod**2+k)\n",
    "    term_21 = (\n",
    "        gamma(1)\n",
    "        * float(mp.hyp2f2(1, 0.5, 0.5, 1.5, z1**2/4))\n",
    "    )\n",
    "    term_22 = (\n",
    "        (z1/2)\n",
    "        * gamma(1)\n",
    "        * float(mp.hyp2f2(1, 1.5, 1.5, 2, z1**2/4))\n",
    "    )\n",
    "    res1 = term_1 * (term_21 - term_22)/np.sqrt(np.pi)\n",
    "\n",
    "    z2 = np.sqrt(2*sigma_R_squared) * (varphi_mod**2+k)\n",
    "    term_31 = (\n",
    "        gamma(1)\n",
    "        * float(mp.hyp2f2(1, 0.5, 0.5, 1.5, z2**2/4))\n",
    "    )\n",
    "    term_32 = (\n",
    "        (z2/2)\n",
    "        * gamma(1)\n",
    "        * float(mp.hyp2f2(1, 1.5, 1.5, 2, z2**2/4))\n",
    "    )\n",
    "    res2 = term_1 * (term_31 - term_32)/np.sqrt(np.pi)\n",
    "    # res3 = term_1 * 2 * term_21/np.sqrt(np.pi)\n",
    "    # return res3\n",
    "    return res1 + res2\n",
    "\n",
    "def f_closed_form_short(k):\n",
    "    term_1 = (\n",
    "        np.sqrt(2) * np.sqrt(sigma_R_squared)\n",
    "        * (\n",
    "            A_mod * eta_l * np.exp(-mu)\n",
    "        )**(varphi_mod**2+k)\n",
    "    )\n",
    "\n",
    "    z1 = -np.sqrt(2*sigma_R_squared) * (varphi_mod**2+k)\n",
    "    term_21 = float(mp.hyp2f2(1, 0.5, 0.5, 1.5, z1**2/4))\n",
    "    res3 = term_1 * 2 * term_21/np.sqrt(np.pi)\n",
    "    return res3"
   ]
  },
  {
   "cell_type": "code",
   "execution_count": 8,
   "id": "e95eefc0",
   "metadata": {},
   "outputs": [
    {
     "name": "stdout",
     "output_type": "stream",
     "text": [
      "4.041198579155187e-108\n",
      "4.041198579155187e-108\n"
     ]
    }
   ],
   "source": [
    "print(f_closed_form_short(1))\n",
    "print(f_closed_form(1))"
   ]
  },
  {
   "cell_type": "code",
   "execution_count": 23,
   "id": "e3cb0e10",
   "metadata": {},
   "outputs": [
    {
     "name": "stdout",
     "output_type": "stream",
     "text": [
      "9.340284335940118e-118\n",
      "9.340202768829622e-118\n"
     ]
    }
   ],
   "source": [
    "print(f_closed_form(10))\n",
    "avg_yield, _ = quad(f, 0, np.infty, args=(10))\n",
    "print(avg_yield)"
   ]
  },
  {
   "cell_type": "markdown",
   "id": "b18af856",
   "metadata": {},
   "source": [
    "# Next step"
   ]
  },
  {
   "cell_type": "code",
   "execution_count": 10,
   "id": "b5b31024",
   "metadata": {},
   "outputs": [],
   "source": [
    "def f2(eta):\n",
    "    c = np.exp(-n_s*eta)\n",
    "    a = eta**(varphi_mod**2-1)\n",
    "    b = erfc(\n",
    "        (np.log(eta / (A_mod * eta_l)) + mu)\n",
    "        / (np.sqrt(2) * np.sqrt(sigma_R_squared))\n",
    "        )\n",
    "    return a * b * c"
   ]
  },
  {
   "cell_type": "code",
   "execution_count": 21,
   "id": "9de631d5",
   "metadata": {},
   "outputs": [
    {
     "name": "stdout",
     "output_type": "stream",
     "text": [
      "1.2807052075130401e-106\n"
     ]
    }
   ],
   "source": [
    "avg_yield_2, _ = quad(f2, 0, 1)\n",
    "print(avg_yield_2)"
   ]
  },
  {
   "cell_type": "code",
   "execution_count": 12,
   "id": "56975dab",
   "metadata": {},
   "outputs": [],
   "source": [
    "def f2_closed_form(iters):\n",
    "    res = 0\n",
    "    for idx in range(iters):\n",
    "        term_1 = (-n_s)**idx/np.math.factorial(idx)\n",
    "        term_2 = f_closed_form(idx)\n",
    "        res += term_1 + term_2\n",
    "        # print(term_1, term_2)\n",
    "    return res"
   ]
  },
  {
   "cell_type": "code",
   "execution_count": 13,
   "id": "201b9ecf",
   "metadata": {},
   "outputs": [
    {
     "name": "stdout",
     "output_type": "stream",
     "text": [
      "0.6065306597126333\n"
     ]
    }
   ],
   "source": [
    "print(f2_closed_form(20))"
   ]
  },
  {
   "cell_type": "markdown",
   "id": "5a6f6849",
   "metadata": {},
   "source": [
    "# Final step"
   ]
  },
  {
   "cell_type": "code",
   "execution_count": 14,
   "id": "09b76e53",
   "metadata": {},
   "outputs": [
    {
     "name": "stdout",
     "output_type": "stream",
     "text": [
      "0.0003603777926624077\n"
     ]
    }
   ],
   "source": [
    "def f3(eta):\n",
    "    a = transmitivity_pdf(\n",
    "        eta, mu_x, mu_y, sigma_x, sigma_y, zenith_angle_rad,\n",
    "        w_L, w_Leq, tau_zen, varphi_mod, wavelength, h_OGS,\n",
    "        h_atm, Cn2_profile, ra)\n",
    "    b = e_0 * (p_dark*(1+p_AP)) + (e_pol+e_0*p_AP) * (1-np.exp(-n_s*eta))\n",
    "\n",
    "    return a * b\n",
    "\n",
    "avg_yield_3, _ = quad(f3, 0, np.infty)\n",
    "print(avg_yield_3)"
   ]
  },
  {
   "cell_type": "code",
   "execution_count": 15,
   "id": "b52d1098",
   "metadata": {},
   "outputs": [],
   "source": [
    "def f3_closed_form(iters):\n",
    "    term_1 = e_0 * (p_dark*(1+p_AP)) + e_pol + e_0*p_AP\n",
    "    term_2 = (\n",
    "        (e_pol + e_0*p_AP)\n",
    "        * ((varphi_mod**2) / (2 * (A_mod * eta_l)**(varphi_mod**2)))\n",
    "        * np.exp(\n",
    "        (sigma_R_squared / 2) * varphi_mod**2 * (1 + varphi_mod**2)\n",
    "        )\n",
    "    )\n",
    "    term_3 = f2_closed_form(iters)\n",
    "    # print(term_1, term_2, term_3)\n",
    "    res = term_1 - term_2 * term_3  \n",
    "    return res"
   ]
  },
  {
   "cell_type": "code",
   "execution_count": 16,
   "id": "38def5e8",
   "metadata": {},
   "outputs": [
    {
     "name": "stdout",
     "output_type": "stream",
     "text": [
      "-9.37545673015224e+103\n"
     ]
    }
   ],
   "source": [
    "print(f3_closed_form(50))"
   ]
  },
  {
   "cell_type": "markdown",
   "id": "9be16e5d",
   "metadata": {},
   "source": [
    "# F4"
   ]
  },
  {
   "cell_type": "code",
   "execution_count": 17,
   "id": "da546262",
   "metadata": {},
   "outputs": [
    {
     "name": "stdout",
     "output_type": "stream",
     "text": [
      "0.984531110366942\n"
     ]
    }
   ],
   "source": [
    "def f4(eta):\n",
    "    a = transmitivity_pdf(\n",
    "        eta, mu_x, mu_y, sigma_x, sigma_y, zenith_angle_rad,\n",
    "        w_L, w_Leq, tau_zen, varphi_mod, wavelength, h_OGS,\n",
    "        h_atm, Cn2_profile, ra)\n",
    "    b = np.exp(-n_s*eta)\n",
    "\n",
    "    return a * b\n",
    "\n",
    "avg_yield_4, _ = quad(f4, 0, np.infty)\n",
    "print(avg_yield_4)"
   ]
  },
  {
   "cell_type": "code",
   "execution_count": 18,
   "id": "c3169094",
   "metadata": {},
   "outputs": [],
   "source": [
    "def f4_closed_form(iters):\n",
    "    term_1 = (\n",
    "        ((varphi_mod**2) / (2 * (A_mod * eta_l)**(varphi_mod**2)))\n",
    "        * np.exp(\n",
    "        (sigma_R_squared / 2) * varphi_mod**2 * (1 + varphi_mod**2)\n",
    "        )\n",
    "    )\n",
    "    term_2 = f2_closed_form(iters)\n",
    "    # term_2, _ = quad(f2, 0, 1)\n",
    "    res = term_1 * term_2 \n",
    "    return res"
   ]
  },
  {
   "cell_type": "code",
   "execution_count": 19,
   "id": "9296af28",
   "metadata": {},
   "outputs": [
    {
     "data": {
      "text/plain": [
       "4.68772836507612e+105"
      ]
     },
     "execution_count": 19,
     "metadata": {},
     "output_type": "execute_result"
    }
   ],
   "source": [
    "f4_closed_form(20)"
   ]
  },
  {
   "cell_type": "code",
   "execution_count": 20,
   "id": "23d667f6",
   "metadata": {},
   "outputs": [],
   "source": [
    "# def f32(eta):\n",
    "#     term_1 = transmitivity_pdf(\n",
    "#         eta, mu_x, mu_y, sigma_x, sigma_y, zenith_angle_rad,\n",
    "#         w_L, w_Leq, tau_zen, varphi_mod, wavelength, h_OGS,\n",
    "#         h_atm, Cn2_profile, ra)\n",
    "#     term_2 = (e_pol+e_0*p_AP) * np.exp(-n_s*eta)\n",
    "#     return term_1 * term_2\n",
    "\n",
    "# avg_yield_4, _ = quad(f32, 0, np.inf)\n",
    "# print(e_0 * (p_dark*(1+p_AP)) + e_pol + e_0*p_AP - avg_yield_4)\n",
    "# print(avg_yield_4)"
   ]
  }
 ],
 "metadata": {
  "kernelspec": {
   "display_name": "Python 3",
   "language": "python",
   "name": "python3"
  },
  "language_info": {
   "codemirror_mode": {
    "name": "ipython",
    "version": 3
   },
   "file_extension": ".py",
   "mimetype": "text/x-python",
   "name": "python",
   "nbconvert_exporter": "python",
   "pygments_lexer": "ipython3",
   "version": "3.10.12"
  }
 },
 "nbformat": 4,
 "nbformat_minor": 5
}
