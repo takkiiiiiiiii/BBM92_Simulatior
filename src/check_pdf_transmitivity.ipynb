{
 "cells": [
  {
   "cell_type": "code",
   "execution_count": 1,
   "id": "5894b3ff",
   "metadata": {},
   "outputs": [],
   "source": [
    "from os import getcwd\n",
    "from os.path import join, basename\n",
    "from sys import path \n",
    "\n",
    "libs_dir = join(\"/\".join(getcwd().split(\"/\")[:-1]))\n",
    "path.append(libs_dir)\n",
    "\n",
    "filename = basename(globals()['__vsc_ipynb_file__']).split(\".\")[0]\n",
    "\n",
    "import numpy as np\n",
    "from libs.qchannel_model import *\n",
    "import matplotlib.pyplot as plt\n",
    "from libs.figure_config import *\n",
    "from libs.default_parameters import *\n",
    "from scipy.stats import lognorm\n",
    "import os"
   ]
  },
  {
   "cell_type": "code",
   "execution_count": 2,
   "id": "375d89d3",
   "metadata": {},
   "outputs": [],
   "source": [
    "n_s = 0.1\n",
    "\n",
    "# sigma_theta_x = theta_rad/8\n",
    "# sigma_theta_y = theta_rad/8"
   ]
  },
  {
   "cell_type": "code",
   "execution_count": 4,
   "id": "5ee42fb5",
   "metadata": {},
   "outputs": [],
   "source": [
    "zenith_angle_rad = np.radians(60)\n",
    "\n",
    "slant_distance = compute_slant_distance(h_s, h_OGS, zenith_angle_rad)\n",
    "\n",
    "w_L = slant_distance * theta_rad\n",
    "\n",
    "sigma_x = sigma_theta_x * slant_distance\n",
    "\n",
    "sigma_y = sigma_theta_y * slant_distance\n",
    "\n",
    "w_Leq_squared = equivalent_beam_width_squared(a, w_L)\n",
    "w_Leq = np.sqrt(w_Leq_squared)\n",
    "\n",
    "sigma_mod = compute_sigma_mod(mu_x, mu_y, sigma_x, sigma_y)\n",
    "\n",
    "varphi_mod = sigma_to_variance(sigma_mod, w_Leq)\n",
    "\n",
    "sigma_R_squared = rytov_variance(\n",
    "    wavelength, zenith_angle_rad, h_OGS, h_atm, Cn2_profile)\n",
    "\n",
    "tau_zen = 0.91"
   ]
  },
  {
   "cell_type": "code",
   "execution_count": 5,
   "id": "2eb4c365",
   "metadata": {},
   "outputs": [
    {
     "name": "stdout",
     "output_type": "stream",
     "text": [
      "550000\n"
     ]
    }
   ],
   "source": [
    "print(h_s)"
   ]
  },
  {
   "cell_type": "code",
   "execution_count": 6,
   "id": "4f887265",
   "metadata": {},
   "outputs": [],
   "source": [
    "eta = np.arange(0, 0.05, 0.0001)\n",
    "\n",
    "pdf_theory = np.zeros(len(eta))"
   ]
  },
  {
   "cell_type": "code",
   "execution_count": 7,
   "id": "e1dd8ccc",
   "metadata": {},
   "outputs": [
    {
     "name": "stderr",
     "output_type": "stream",
     "text": [
      "/home/ccl/code/04_2025_Yudai_code_check/libs/qchannel_model.py:24: RuntimeWarning: divide by zero encountered in log\n",
      "  (np.log(eta / (A_mod * eta_l)) + mu)\n"
     ]
    }
   ],
   "source": [
    "for idx in range(len(eta)):\n",
    "    pdf_theory[idx] = transmitivity_pdf(\n",
    "        eta[idx], mu_x, mu_y, sigma_x, sigma_y, zenith_angle_rad,\n",
    "        w_L, w_Leq, tau_zen, varphi_mod, wavelength, h_OGS,\n",
    "        h_atm, Cn2_profile, a)"
   ]
  },
  {
   "cell_type": "code",
   "execution_count": 8,
   "id": "151aa0b1",
   "metadata": {},
   "outputs": [],
   "source": [
    "def rvs_LN_fading(sigma_R_squared, size=1):\n",
    "    shape_param = np.sqrt(sigma_R_squared)\n",
    "    # I_a_random = lognorm.rvs(shape_param, loc=-sigma_R_squared/2, size=size)\n",
    "    I_a_random = np.random.lognormal(mean=-sigma_R_squared/2, sigma=shape_param, size=size)\n",
    "\n",
    "    return I_a_random\n",
    "\n",
    "def rvs_pointing_err(\n",
    "        mu_x, mu_y, sigma_theta_x, sigma_theta_y,\n",
    "        slant_distance, theta_rad, a, w_Leq_squared, size=1):\n",
    "    sigma_x = sigma_theta_x * slant_distance\n",
    "    sigma_y = sigma_theta_y * slant_distance\n",
    "\n",
    "    x = np.random.normal(loc=mu_x, scale=sigma_x, size=size)\n",
    "    y = np.random.normal(loc=mu_y, scale=sigma_y, size=size)\n",
    "\n",
    "    r = np.sqrt(x**2 + y**2)\n",
    "\n",
    "    w_L = slant_distance * theta_rad\n",
    "    nu = (np.sqrt(np.pi) * a) / (np.sqrt(2) * w_L)\n",
    "    A0 = erf(nu)**2\n",
    "    eta_p = A0 * np.exp(-(2*r**2)/(w_Leq_squared))\n",
    "\n",
    "    return eta_p"
   ]
  },
  {
   "cell_type": "code",
   "execution_count": 9,
   "id": "a543507a",
   "metadata": {},
   "outputs": [],
   "source": [
    "eta_ell = compute_atm_loss(tau_zen, zenith_angle_rad)\n",
    "I_a = rvs_LN_fading(sigma_R_squared, size=100000)\n",
    "eta_p = rvs_pointing_err(\n",
    "    mu_x, mu_y, sigma_theta_x, sigma_theta_y,\n",
    "    slant_distance, theta_rad, a, w_Leq_squared,size=100000\n",
    "    )\n",
    "eta_simul = eta_ell * I_a * eta_p"
   ]
  },
  {
   "cell_type": "code",
   "execution_count": 10,
   "id": "95058a2c",
   "metadata": {},
   "outputs": [
    {
     "data": {
      "image/png": "[encoded data removed]",
      "text/plain": [
       "<Figure size 640x480 with 1 Axes>"
      ]
     },
     "metadata": {},
     "output_type": "display_data"
    }
   ],
   "source": [
    "plt.plot(eta, pdf_theory)\n",
    "plt.hist(eta_simul, density=True, bins=1000)\n",
    "\n",
    "# plt.xlim(0, 0.05)\n",
    "\n",
    "plt.grid()"
   ]
  },
  {
   "cell_type": "code",
   "execution_count": 11,
   "id": "9495568a",
   "metadata": {},
   "outputs": [
    {
     "name": "stdout",
     "output_type": "stream",
     "text": [
      "0.09321310557026541\n"
     ]
    }
   ],
   "source": [
    "qber_theory, _ = compute_avg_qber(\n",
    "    sigma_theta_x, sigma_theta_y, slant_distance, mu_x, mu_y,\n",
    "    zenith_angle_rad, h_OGS, h_atm, w_L, tau_zen, Cn2_profile,\n",
    "    a, e_0, p_dark, e_pol, p_AP, n_s, wavelength\n",
    ")\n",
    "print(qber_theory)"
   ]
  },
  {
   "cell_type": "code",
   "execution_count": 12,
   "id": "279260d2",
   "metadata": {},
   "outputs": [
    {
     "name": "stdout",
     "output_type": "stream",
     "text": [
      "0.13806612042423838\n"
     ]
    }
   ],
   "source": [
    "qber_simul = 0\n",
    "for idx in range(np.size(eta_simul)):\n",
    "    qber_simul += qber_loss(e_0, p_dark, e_pol, p_AP, eta_simul[idx], n_s)\n",
    "print(qber_simul/np.size(eta_simul))"
   ]
  }
 ],
 "metadata": {
  "kernelspec": {
   "display_name": "Python 3",
   "language": "python",
   "name": "python3"
  },
  "language_info": {
   "codemirror_mode": {
    "name": "ipython",
    "version": 3
   },
   "file_extension": ".py",
   "mimetype": "text/x-python",
   "name": "python",
   "nbconvert_exporter": "python",
   "pygments_lexer": "ipython3",
   "version": "3.10.12"
  }
 },
 "nbformat": 4,
 "nbformat_minor": 5
}
