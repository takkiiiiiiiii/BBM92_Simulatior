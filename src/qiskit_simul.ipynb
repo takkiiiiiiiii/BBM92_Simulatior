{
 "cells": [
  {
   "cell_type": "code",
   "execution_count": 1,
   "id": "54f537fb",
   "metadata": {},
   "outputs": [],
   "source": [
    "from os import getcwd\n",
    "from os.path import join, basename\n",
    "from sys import path \n",
    "\n",
    "libs_dir = join(\"/\".join(getcwd().split(\"/\")[:-1]))\n",
    "path.append(libs_dir)\n",
    "\n",
    "filename = basename(globals()['__vsc_ipynb_file__']).split(\".\")[0]\n",
    "\n",
    "import numpy as np\n",
    "from libs.qchannel_model import *\n",
    "import matplotlib.pyplot as plt\n",
    "from libs.figure_config import *\n",
    "from libs.default_parameters import *\n",
    "from libs.simulation_tools import *\n",
    "from qiskit_aer import AerSimulator"
   ]
  },
  {
   "cell_type": "code",
   "execution_count": 2,
   "id": "77a3a7bd",
   "metadata": {},
   "outputs": [],
   "source": [
    "num_channel_coefficients = 1000 #100000\n",
    "num_qubits_per_execute = int(1000)\n",
    "# num_qubits_per_channel_coefficient = 200000\n",
    "\n",
    "# tau_zen_list = [0.91, 0.85, 0,75, 0.53]\n",
    "tau_zen = 0.91\n",
    "zenith_angle_deg_list = np.linspace(0, 60, 7)\n",
    "# num_running = total_qubit/num_qubits"
   ]
  },
  {
   "cell_type": "code",
   "execution_count": 3,
   "id": "392b7c12",
   "metadata": {},
   "outputs": [],
   "source": [
    "backend = AerSimulator()\n",
    "user0 = User(\"Alice\", None, None, None) \n",
    "user1 = User(\"Bob\", None, None, None)\n",
    "\n",
    "qber_values = np.zeros(len(zenith_angle_deg_list))\n",
    "\n",
    "qber_theory = np.zeros(len(zenith_angle_deg_list))"
   ]
  },
  {
   "cell_type": "code",
   "execution_count": null,
   "id": "6d621693",
   "metadata": {},
   "outputs": [
    {
     "name": "stdout",
     "output_type": "stream",
     "text": [
      "0.058022521121778685\n",
      "QBER: 0.0581648273585 at 0.0 deg\n",
      "0.05860473805661932\n",
      "QBER: 0.057796351702731924 at 10.0 deg\n",
      "0.06054228859984817\n",
      "QBER: 0.06091484418809581 at 20.0 deg\n",
      "0.06455432911758506\n",
      "QBER: 0.06316145575815565 at 30.0 deg\n",
      "0.07253314970602004\n",
      "QBER: 0.07266987360196414 at 40.0 deg\n",
      "0.08968205211912174\n",
      "QBER: 0.08688558066531063 at 50.0 deg\n",
      "0.13082162827104019\n",
      "QBER: 0.12375802338872768 at 60.0 deg\n"
     ]
    }
   ],
   "source": [
    "for jdx in range(len(zenith_angle_deg_list)):\n",
    "    zenith_angle_deg = zenith_angle_deg_list[jdx]\n",
    "    \n",
    "    zenith_angle_rad = np.radians(zenith_angle_deg)\n",
    "    \n",
    "    sigma_R_squared = rytov_variance(\n",
    "        wavelength, zenith_angle_rad, h_OGS, h_atm, Cn2_profile)\n",
    "    \n",
    "    slant_distance = compute_slant_distance(h_s, h_OGS, zenith_angle_rad)\n",
    "    \n",
    "    w_L = slant_distance * theta_rad\n",
    "    \n",
    "    w_Leq_squared = equivalent_beam_width_squared(a, w_L)\n",
    "\n",
    "    qber_theory[jdx], _ = compute_avg_qber(\n",
    "        sigma_theta_x, sigma_theta_y, slant_distance, mu_x, mu_y,\n",
    "        zenith_angle_rad, h_OGS, h_atm, w_L, tau_zen, Cn2_profile,\n",
    "        a, e_0, p_dark, e_pol, p_AP, n_s, wavelength\n",
    "    )\n",
    "    print(qber_theory[jdx])\n",
    "\n",
    "    qber_record_per_sample = np.zeros(num_channel_coefficients)\n",
    "\n",
    "    total_err_num = 0\n",
    "\n",
    "    total_sifted_bit_length = 0\n",
    "\n",
    "    temp_insta_qber = 0\n",
    "    for idx in range(num_channel_coefficients):\n",
    "        eta_ell = compute_atm_loss(tau_zen, zenith_angle_rad)\n",
    "        I_a = rvs_LN_fading(sigma_R_squared, size=1)\n",
    "        eta_p = rvs_pointing_err(\n",
    "            mu_x, mu_y, sigma_theta_x, sigma_theta_y,\n",
    "            slant_distance, theta_rad, a, w_Leq_squared, size=1\n",
    "            )\n",
    "        \n",
    "        insta_eta = eta_ell * I_a * eta_p\n",
    "        insta_qber = qber_loss(\n",
    "            e_0, p_dark, e_pol, p_AP, insta_eta, n_s\n",
    "        )[0]\n",
    "\n",
    "        part_ka, part_kb, err_num = generate_Siftedkey(\n",
    "            user0, user1, num_qubits_per_execute, insta_qber, backend\n",
    "        )\n",
    "        \n",
    "        total_err_num += err_num\n",
    "        total_sifted_bit_length += len(part_ka)\n",
    "        # print(insta_qber, err_num/(num_qubits_per_execute/2))\n",
    "            # print(err_num/len(part_ka), insta_qber)\n",
    "        # if total_sifted_bit_length == 0:\n",
    "        #     qber = 0\n",
    "        # else:\n",
    "        #     qber = total_err_num / total_sifted_bit_length\n",
    "\n",
    "        # qber_record_per_sample[idx] = qber\n",
    "    avg_qber = total_err_num / total_sifted_bit_length\n",
    "    print(f'QBER: {avg_qber} at {zenith_angle_deg} deg',)\n",
    "    qber_values[jdx] = avg_qber"
   ]
  },
  {
   "cell_type": "code",
   "execution_count": 5,
   "id": "ef049e68",
   "metadata": {},
   "outputs": [
    {
     "data": {
      "text/plain": [
       "[<matplotlib.lines.Line2D at 0x7f59bb950460>]"
      ]
     },
     "execution_count": 5,
     "metadata": {},
     "output_type": "execute_result"
    },
    {
     "data": {
      "image/png": "[encoded data removed]",
      "text/plain": [
       "<Figure size 640x480 with 1 Axes>"
      ]
     },
     "metadata": {},
     "output_type": "display_data"
    }
   ],
   "source": [
    "plt.scatter(zenith_angle_deg_list, qber_values*100)\n",
    "plt.plot(zenith_angle_deg_list, qber_theory*100)"
   ]
  }
 ],
 "metadata": {
  "kernelspec": {
   "display_name": "Python 3",
   "language": "python",
   "name": "python3"
  },
  "language_info": {
   "codemirror_mode": {
    "name": "ipython",
    "version": 3
   },
   "file_extension": ".py",
   "mimetype": "text/x-python",
   "name": "python",
   "nbconvert_exporter": "python",
   "pygments_lexer": "ipython3",
   "version": "3.10.12"
  }
 },
 "nbformat": 4,
 "nbformat_minor": 5
}
