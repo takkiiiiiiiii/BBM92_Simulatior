{
 "cells": [
  {
   "cell_type": "code",
   "execution_count": 8,
   "id": "5894b3ff",
   "metadata": {},
   "outputs": [],
   "source": [
    "from os import getcwd\n",
    "from os.path import join, basename\n",
    "from sys import path \n",
    "\n",
    "libs_dir = join(\"/\".join(getcwd().split(\"/\")[:-1]))\n",
    "path.append(libs_dir)\n",
    "\n",
    "filename = basename(globals()['__vsc_ipynb_file__']).split(\".\")[0]\n",
    "\n",
    "import numpy as np\n",
    "from libs.qchannel_model import *\n",
    "import matplotlib.pyplot as plt\n",
    "from libs.figure_config import *\n",
    "from libs.default_parameters import *\n",
    "from numpy.polynomial.laguerre import laggauss"
   ]
  },
  {
   "cell_type": "code",
   "execution_count": 9,
   "id": "785d3079",
   "metadata": {},
   "outputs": [],
   "source": [
    "# n_s = 0.8\n"
   ]
  },
  {
   "cell_type": "code",
   "execution_count": 10,
   "id": "93e26a89",
   "metadata": {},
   "outputs": [],
   "source": [
    "tau_zen_list = np.array([0.75])\n",
    "zenith_angle_deg_list = np.linspace(0, 60, 1)\n",
    "\n",
    "qber_values = np.zeros((len(tau_zen_list), len(zenith_angle_deg_list)))\n",
    "yield_values = np.zeros((len(tau_zen_list), len(zenith_angle_deg_list)))\n",
    "skr_values = np.zeros((len(tau_zen_list), len(zenith_angle_deg_list)))"
   ]
  },
  {
   "cell_type": "code",
   "execution_count": 11,
   "id": "26d7d0be",
   "metadata": {},
   "outputs": [],
   "source": [
    "# def compute_avg_qber_closed_form(\n",
    "#         sigma_theta_x, sigma_theta_y, slant_distance,\n",
    "#         mu_x, mu_y, zenith_angle_rad, h_OGS, h_atm, w_L, tau_zen,\n",
    "#         Cn2_profile, a, e_0, p_dark, e_pol, p_AP, n_s, wavelength,\n",
    "#         n_num, n_den):\n",
    "#     sigma_x = sigma_theta_x * slant_distance\n",
    "#     sigma_y = sigma_theta_y * slant_distance\n",
    "\n",
    "#     w_Leq_squared = equivalent_beam_width_squared(a, w_L)\n",
    "#     w_Leq = np.sqrt(w_Leq_squared)\n",
    "#     sigma_mod = compute_sigma_mod(mu_x, mu_y, sigma_x, sigma_y)\n",
    "#     varphi_mod = sigma_to_variance(sigma_mod, w_Leq)\n",
    "\n",
    "#     x, w = gauss_laguerre_table(n_num)\n",
    "#     avg_err_bits = 0\n",
    "\n",
    "#     for idx in range(n_num):\n",
    "#         avg_err_bits += (\n",
    "#             w[idx] * np.exp(x[idx])\n",
    "#             * transmitivity_pdf(x[idx], mu_x, mu_y, sigma_x, sigma_y,\n",
    "#                 zenith_angle_rad, w_L, w_Leq, tau_zen, varphi_mod,\n",
    "#                 wavelength, h_OGS, h_atm, Cn2_profile, a)\n",
    "#             * (\n",
    "#                 e_0 * (p_dark*(1+p_AP)) \n",
    "#                 + (e_pol+e_0*p_AP) * (1-np.exp(-n_s*x[idx]))\n",
    "#             )\n",
    "#         )\n",
    "    \n",
    "#     # def integrand_2(eta):\n",
    "#     #     term_1 = transmitivity_pdf(\n",
    "#     #         eta, mu_x, mu_y, sigma_x, sigma_y, zenith_angle_rad,\n",
    "#     #         w_L, w_Leq, tau_zen, varphi_mod, wavelength, h_OGS,\n",
    "#     #         h_atm, Cn2_profile, a)\n",
    "#     #     term_2 = compute_yield(eta, n_s, p_dark, p_AP)\n",
    "\n",
    "#     #     return term_1 * term_2\n",
    "\n",
    "#     # avg_yield, _ = quad(integrand_2, 0, np.inf, limit=100, epsabs=1e-9, epsrel=1e-9)\n",
    "\n",
    "#     return avg_err_bits"
   ]
  },
  {
   "cell_type": "code",
   "execution_count": 12,
   "id": "261b858e",
   "metadata": {},
   "outputs": [],
   "source": [
    "n_num = 30\n"
   ]
  },
  {
   "cell_type": "code",
   "execution_count": 13,
   "id": "3d9b47d3",
   "metadata": {},
   "outputs": [
    {
     "name": "stdout",
     "output_type": "stream",
     "text": [
      "0 0.0008555408038396503\n",
      "1 0.0008555408039761859\n",
      "2 0.0008555408039761859\n",
      "3 0.0008555408039761859\n",
      "4 0.0008555408039761859\n",
      "5 0.0008555408039761859\n",
      "6 0.0008555408039761859\n",
      "7 0.0008555408039761859\n",
      "8 0.0008555408039761859\n",
      "9 0.0008555408039761859\n",
      "1.0000000000000386 0.0008555408039761859\n"
     ]
    }
   ],
   "source": [
    "for idx in range(len(tau_zen_list)):\n",
    "    tau_zen = tau_zen_list[idx]\n",
    "    for jdx in range(len(zenith_angle_deg_list)):\n",
    "        zenith_angle_deg = zenith_angle_deg_list[jdx]\n",
    "        \n",
    "        if zenith_angle_deg < 0:\n",
    "            zenith_angle_rad = np.radians(-zenith_angle_deg)\n",
    "        else:\n",
    "            zenith_angle_rad = np.radians(zenith_angle_deg)\n",
    "\n",
    "        slant_distance = compute_slant_distance(h_s, h_OGS, zenith_angle_rad)\n",
    "        w_L = slant_distance * theta_rad\n",
    "\n",
    "        sigma_x = sigma_theta_x * slant_distance\n",
    "        sigma_y = sigma_theta_y * slant_distance\n",
    "\n",
    "        w_Leq_squared = equivalent_beam_width_squared(a, w_L)\n",
    "        w_Leq = np.sqrt(w_Leq_squared)\n",
    "        sigma_mod = compute_sigma_mod(mu_x, mu_y, sigma_x, sigma_y)\n",
    "        varphi_mod = sigma_to_variance(sigma_mod, w_Leq)\n",
    "\n",
    "        # x, w = gauss_laguerre_table(n_num)\n",
    "\n",
    "        # avg_err_bits_closed_form = 0\n",
    "\n",
    "        # for kdx in range(n_num):\n",
    "        #     avg_err_bits_closed_form += (\n",
    "        #         w[kdx] * np.exp(x[kdx])\n",
    "        #         * transmitivity_pdf(x[kdx], mu_x, mu_y, sigma_x, sigma_y,\n",
    "        #             zenith_angle_rad, w_L, w_Leq, tau_zen, varphi_mod,\n",
    "        #             wavelength, h_OGS, h_atm, Cn2_profile, a)\n",
    "        #         * (\n",
    "        #             e_0 * (p_dark*(1+p_AP)) \n",
    "        #             + (e_pol+e_0*p_AP) * (1-np.exp(-n_s*x[kdx]))\n",
    "        #         )\n",
    "        #     )\n",
    "        \n",
    "        # def integrand_3(eta):\n",
    "        #     term_1 = transmitivity_pdf(\n",
    "        #         eta, mu_x, mu_y, sigma_x, sigma_y, zenith_angle_rad,\n",
    "        #         w_L, w_Leq, tau_zen, varphi_mod, wavelength, h_OGS,\n",
    "        #         h_atm, Cn2_profile, a)\n",
    "        #     term_2 = (\n",
    "        #         e_0 * (p_dark*(1+p_AP))\n",
    "        #         + (e_pol+e_0*p_AP) * (1-np.exp(-n_s*eta))\n",
    "        #     )\n",
    "\n",
    "        #     return term_1 * term_2\n",
    "        \n",
    "        # avg_err_bits, _ = quad(integrand_3, 0, 1)\n",
    "\n",
    "        # print(avg_err_bits, avg_err_bits_closed_form)\n",
    "\n",
    "        n_den = 10\n",
    "        x, w = laggauss(n_den)\n",
    "\n",
    "        avg_yield_closed_form = 0\n",
    "\n",
    "        temp = np.zeros(n_den)\n",
    "\n",
    "        for kdx in range(n_den):\n",
    "            temp[kdx] = (\n",
    "                w[kdx] * np.exp(x[kdx])\n",
    "                * transmitivity_pdf(x[kdx], mu_x, mu_y, sigma_x, sigma_y,\n",
    "                    zenith_angle_rad, w_L, w_Leq, tau_zen, varphi_mod,\n",
    "                    wavelength, h_OGS, h_atm, Cn2_profile, a)\n",
    "                # * compute_yield(x[kdx], n_s, p_dark, p_AP)\n",
    "            )\n",
    "            avg_yield_closed_form += temp[kdx]\n",
    "            # temp[kdx] = w[kdx] * np.exp(x[kdx])\n",
    "            print(kdx, avg_yield_closed_form)\n",
    "            # print(np.exp(x[kdx]), transmitivity_pdf(x[kdx], mu_x, mu_y, sigma_x, sigma_y,\n",
    "            #         zenith_angle_rad, w_L, w_Leq, tau_zen, varphi_mod,\n",
    "            #         wavelength, h_OGS, h_atm, Cn2_profile, a), compute_yield(x[kdx], n_s, p_dark, p_AP))\n",
    "\n",
    "        \n",
    "        def integrand_2(eta, mu_x, mu_y, sigma_x, sigma_y, zenith_angle_rad,\n",
    "                w_L, w_Leq, tau_zen, varphi_mod, wavelength, h_OGS,\n",
    "                h_atm, Cn2_profile, a, p_dark, p_AP, n_s):\n",
    "            term_1 = transmitivity_pdf(\n",
    "                eta, mu_x, mu_y, sigma_x, sigma_y, zenith_angle_rad,\n",
    "                w_L, w_Leq, tau_zen, varphi_mod, wavelength, h_OGS,\n",
    "                h_atm, Cn2_profile, a)\n",
    "            # term_2 = compute_yield(eta, n_s, p_dark, p_AP)\n",
    "            term_2 = 1\n",
    "\n",
    "            return term_1 * term_2\n",
    "        \n",
    "        avg_yield, _ = quad(integrand_2, 0, np.inf, args=(mu_x, mu_y, sigma_x, sigma_y, zenith_angle_rad,\n",
    "                w_L, w_Leq, tau_zen, varphi_mod, wavelength, h_OGS,\n",
    "                h_atm, Cn2_profile, a, p_dark, p_AP, n_s))\n",
    "\n",
    "        print(avg_yield, avg_yield_closed_form)"
   ]
  },
  {
   "cell_type": "code",
   "execution_count": 14,
   "id": "7fd51b7b",
   "metadata": {},
   "outputs": [
    {
     "data": {
      "text/plain": [
       "(array([3.08441116e-01, 4.01119929e-01, 2.18068288e-01, 6.20874561e-02,\n",
       "        9.50151698e-03, 7.53008389e-04, 2.82592335e-05, 4.24931398e-07,\n",
       "        1.83956482e-09, 9.91182722e-13]),\n",
       " array([ 0.13779347,  0.72945455,  1.8083429 ,  3.4014337 ,  5.55249614,\n",
       "         8.33015275, 11.84378584, 16.27925783, 21.99658581, 29.92069701]))"
      ]
     },
     "execution_count": 14,
     "metadata": {},
     "output_type": "execute_result"
    }
   ],
   "source": [
    "w, x"
   ]
  },
  {
   "cell_type": "code",
   "execution_count": 15,
   "id": "b718b9af",
   "metadata": {},
   "outputs": [
    {
     "data": {
      "image/png": "[encoded data removed]",
      "text/plain": [
       "<Figure size 640x480 with 1 Axes>"
      ]
     },
     "metadata": {},
     "output_type": "display_data"
    }
   ],
   "source": [
    "plt.plot(range(n_den), temp)\n",
    "plt.yscale('log')"
   ]
  },
  {
   "cell_type": "code",
   "execution_count": 16,
   "id": "73c8cad7",
   "metadata": {},
   "outputs": [],
   "source": [
    "def f(x, mu, sigma):\n",
    "    return (np.exp(-(np.log(x) - mu)**2 / (2 * sigma**2))\n",
    "       / (x * sigma * np.sqrt(2 * np.pi)))\n",
    "\n",
    "def f2(x):\n",
    "    return x**2 * np.exp(-x)"
   ]
  },
  {
   "cell_type": "code",
   "execution_count": 20,
   "id": "91780ccf",
   "metadata": {},
   "outputs": [
    {
     "name": "stdout",
     "output_type": "stream",
     "text": [
      "0 1.5300153253901948e-24\n",
      "1 0.0007296551868699577\n",
      "2 1.093441200530663\n",
      "3 1.1801589291014742\n",
      "4 1.1803487704380058\n",
      "5 1.1803488609478956\n",
      "6 1.180348860969812\n",
      "7 1.180348860969816\n",
      "8 1.180348860969816\n",
      "9 1.180348860969816\n",
      "10 1.180348860969816\n",
      "11 1.180348860969816\n",
      "12 1.180348860969816\n",
      "13 1.180348860969816\n",
      "14 1.180348860969816\n",
      "15 1.180348860969816\n",
      "16 1.180348860969816\n",
      "17 1.180348860969816\n",
      "18 1.180348860969816\n",
      "19 1.180348860969816\n",
      "1.0000000000000002 1.180348860969816\n"
     ]
    }
   ],
   "source": [
    "n_den = 20\n",
    "x, w = laggauss(n_den)\n",
    "\n",
    "avg_yield_closed_form = 0\n",
    "\n",
    "temp = np.zeros(n_den)\n",
    "\n",
    "for kdx in range(n_den):\n",
    "    temp[kdx] = (\n",
    "        w[kdx] * np.exp(x[kdx])\n",
    "        * f(x[kdx], mu=0, sigma=0.25)\n",
    "    )\n",
    "    avg_yield_closed_form += temp[kdx]\n",
    "    # temp[kdx] = w[kdx] * np.exp(x[kdx])\n",
    "    print(kdx, avg_yield_closed_form)\n",
    "\n",
    "\n",
    "avg_yield, _ = quad(f, 0, np.inf, args=(0, 0.25))\n",
    "\n",
    "print(avg_yield, avg_yield_closed_form)"
   ]
  }
 ],
 "metadata": {
  "kernelspec": {
   "display_name": "Python 3",
   "language": "python",
   "name": "python3"
  },
  "language_info": {
   "codemirror_mode": {
    "name": "ipython",
    "version": 3
   },
   "file_extension": ".py",
   "mimetype": "text/x-python",
   "name": "python",
   "nbconvert_exporter": "python",
   "pygments_lexer": "ipython3",
   "version": "3.10.12"
  }
 },
 "nbformat": 4,
 "nbformat_minor": 5
}
