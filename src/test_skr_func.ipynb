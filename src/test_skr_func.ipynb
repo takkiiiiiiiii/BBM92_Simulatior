{
 "cells": [
  {
   "cell_type": "code",
   "execution_count": 11,
   "id": "5894b3ff",
   "metadata": {},
   "outputs": [],
   "source": [
    "from os import getcwd\n",
    "from os.path import join, basename\n",
    "from sys import path \n",
    "\n",
    "libs_dir = join(\"/\".join(getcwd().split(\"/\")[:-1]))\n",
    "path.append(libs_dir)\n",
    "\n",
    "filename = basename(globals()['__vsc_ipynb_file__']).split(\".\")[0]\n",
    "\n",
    "import numpy as np\n",
    "from libs.qchannel_model import *\n",
    "import matplotlib.pyplot as plt\n",
    "from libs.figure_config import *\n",
    "from libs.default_parameters import *\n",
    "import os"
   ]
  },
  {
   "cell_type": "code",
   "execution_count": 12,
   "id": "93e26a89",
   "metadata": {},
   "outputs": [],
   "source": [
    "tau_zen = 1\n",
    "n_s = 0.3\n",
    "e_pol = 1/100"
   ]
  },
  {
   "cell_type": "code",
   "execution_count": 13,
   "id": "3d9b47d3",
   "metadata": {},
   "outputs": [],
   "source": [
    "zenith_angle_deg = 0\n",
    "        \n",
    "zenith_angle_rad = np.radians(zenith_angle_deg)\n",
    "\n",
    "slant_distance = compute_slant_distance(h_s, h_OGS, zenith_angle_rad)\n",
    "w_L = slant_distance * theta_rad\n",
    "\n",
    "qber, avg_yield = compute_avg_qber(\n",
    "    sigma_theta_x, sigma_theta_y, slant_distance, mu_x, mu_y,\n",
    "    zenith_angle_rad, h_OGS, h_atm, w_L, tau_zen, Cn2_profile,\n",
    "    a, e_0, p_dark, e_pol, p_AP, n_s, wavelength\n",
    ")\n",
    "Q_1, e_1 = compute_Q_1_e_1(\n",
    "    sigma_theta_x, sigma_theta_y, slant_distance, mu_x, mu_y,\n",
    "    zenith_angle_rad, h_OGS, h_atm, w_L, tau_zen, Cn2_profile,\n",
    "    a, e_0, p_dark, e_pol, p_AP, n_s, wavelength\n",
    ")"
   ]
  },
  {
   "cell_type": "code",
   "execution_count": 14,
   "id": "1e91293b",
   "metadata": {},
   "outputs": [],
   "source": [
    "rep_rate = 1e9\n",
    "sifting_coefficient = 0.5\n",
    "p_estimation = 0.75\n",
    "kr_efficiency = 1"
   ]
  },
  {
   "cell_type": "code",
   "execution_count": 15,
   "id": "d5da763f",
   "metadata": {},
   "outputs": [
    {
     "name": "stdout",
     "output_type": "stream",
     "text": [
      "0.43440891794406633\n"
     ]
    }
   ],
   "source": [
    "term_1 = -avg_yield * kr_efficiency * entropy_func(qber)\n",
    "term_2 = Q_1 * (1 - entropy_func(e_1))\n",
    "print((term_1 + term_2)*rep_rate*sifting_coefficient*p_estimation*0.5/10**(6))\n",
    "# term_2 = -kr_efficiency * entropy_func(qber)"
   ]
  }
 ],
 "metadata": {
  "kernelspec": {
   "display_name": "Python 3",
   "language": "python",
   "name": "python3"
  },
  "language_info": {
   "codemirror_mode": {
    "name": "ipython",
    "version": 3
   },
   "file_extension": ".py",
   "mimetype": "text/x-python",
   "name": "python",
   "nbconvert_exporter": "python",
   "pygments_lexer": "ipython3",
   "version": "3.10.12"
  }
 },
 "nbformat": 4,
 "nbformat_minor": 5
}
